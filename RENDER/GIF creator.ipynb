{
 "cells": [
  {
   "cell_type": "code",
   "execution_count": 1,
   "id": "97cb2707-e872-4c7e-b43a-0bceb0ed5aa3",
   "metadata": {},
   "outputs": [],
   "source": [
    "## Read modules \n",
    "import os\n",
    "import imageio"
   ]
  },
  {
   "cell_type": "code",
   "execution_count": 2,
   "id": "5392ebe2-9a95-463f-8b34-53737ca796f3",
   "metadata": {},
   "outputs": [],
   "source": [
    "## Read the maps \n",
    "png_dir = 'COVID-19 Deaths/'\n",
    "images = []\n",
    "for file_name in sorted(os.listdir(png_dir)):\n",
    "    if file_name.endswith('.png'):\n",
    "        file_path = os.path.join(png_dir, file_name)\n",
    "        images.append(imageio.imread(file_path))"
   ]
  },
  {
   "cell_type": "code",
   "execution_count": 7,
   "id": "065a8ba1-c6d1-4e3e-b9b8-1e222b8c4f91",
   "metadata": {},
   "outputs": [],
   "source": [
    "## Export a GIF map \n",
    "imageio.mimsave('animation/COVID-19 deaths.gif', images, duration = 1)"
   ]
  }
 ],
 "metadata": {
  "kernelspec": {
   "display_name": "Python 3 (ipykernel)",
   "language": "python",
   "name": "python3"
  },
  "language_info": {
   "codemirror_mode": {
    "name": "ipython",
    "version": 3
   },
   "file_extension": ".py",
   "mimetype": "text/x-python",
   "name": "python",
   "nbconvert_exporter": "python",
   "pygments_lexer": "ipython3",
   "version": "3.9.7"
  }
 },
 "nbformat": 4,
 "nbformat_minor": 5
}
