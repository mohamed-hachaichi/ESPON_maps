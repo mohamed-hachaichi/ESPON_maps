{
 "cells": [
  {
   "cell_type": "code",
   "execution_count": 1,
   "id": "74d40ca6-f9e5-47c4-93c9-24de19afd509",
   "metadata": {},
   "outputs": [],
   "source": [
    "import geopandas as gpd"
   ]
  },
  {
   "cell_type": "code",
   "execution_count": 3,
   "id": "6312adab-73c0-43f9-9eae-07bdee689c23",
   "metadata": {},
   "outputs": [
    {
     "data": {
      "text/html": [
       "<div>\n",
       "<style scoped>\n",
       "    .dataframe tbody tr th:only-of-type {\n",
       "        vertical-align: middle;\n",
       "    }\n",
       "\n",
       "    .dataframe tbody tr th {\n",
       "        vertical-align: top;\n",
       "    }\n",
       "\n",
       "    .dataframe thead th {\n",
       "        text-align: right;\n",
       "    }\n",
       "</style>\n",
       "<table border=\"1\" class=\"dataframe\">\n",
       "  <thead>\n",
       "    <tr style=\"text-align: right;\">\n",
       "      <th></th>\n",
       "      <th>D_first_wa</th>\n",
       "      <th>D_second_w</th>\n",
       "      <th>D_third_wa</th>\n",
       "      <th>NUTS_ID</th>\n",
       "      <th>nuts_name</th>\n",
       "      <th>Population</th>\n",
       "      <th>LEVL_CODE</th>\n",
       "      <th>CNTR_CODE</th>\n",
       "      <th>NUTS_NAM_1</th>\n",
       "      <th>3</th>\n",
       "      <th>...</th>\n",
       "      <th>30</th>\n",
       "      <th>31</th>\n",
       "      <th>32</th>\n",
       "      <th>33</th>\n",
       "      <th>34</th>\n",
       "      <th>35</th>\n",
       "      <th>36</th>\n",
       "      <th>NAME_LATN</th>\n",
       "      <th>FID</th>\n",
       "      <th>geometry</th>\n",
       "    </tr>\n",
       "  </thead>\n",
       "  <tbody>\n",
       "    <tr>\n",
       "      <th>0</th>\n",
       "      <td>5.349882</td>\n",
       "      <td>69.548470</td>\n",
       "      <td>24.074470</td>\n",
       "      <td>AT111</td>\n",
       "      <td>Mittelburgenland</td>\n",
       "      <td>37384.0</td>\n",
       "      <td>3.0</td>\n",
       "      <td>AT</td>\n",
       "      <td>Mittelburgenland</td>\n",
       "      <td>0.0</td>\n",
       "      <td>...</td>\n",
       "      <td>1.0</td>\n",
       "      <td>1.0</td>\n",
       "      <td>1.0</td>\n",
       "      <td>1.0</td>\n",
       "      <td>1.0</td>\n",
       "      <td>1.0</td>\n",
       "      <td>1.0</td>\n",
       "      <td>None</td>\n",
       "      <td>None</td>\n",
       "      <td>POLYGON ((4821838.742 2726166.304, 4809143.714...</td>\n",
       "    </tr>\n",
       "    <tr>\n",
       "      <th>1</th>\n",
       "      <td>8.121751</td>\n",
       "      <td>51.854258</td>\n",
       "      <td>24.365254</td>\n",
       "      <td>AT112</td>\n",
       "      <td>Nordburgenland</td>\n",
       "      <td>160064.0</td>\n",
       "      <td>3.0</td>\n",
       "      <td>AT</td>\n",
       "      <td>Nordburgenland</td>\n",
       "      <td>0.0</td>\n",
       "      <td>...</td>\n",
       "      <td>7.0</td>\n",
       "      <td>7.0</td>\n",
       "      <td>7.0</td>\n",
       "      <td>7.0</td>\n",
       "      <td>7.0</td>\n",
       "      <td>7.0</td>\n",
       "      <td>7.0</td>\n",
       "      <td>None</td>\n",
       "      <td>None</td>\n",
       "      <td>POLYGON ((4854633.443 2791782.864, 4851092.605...</td>\n",
       "    </tr>\n",
       "    <tr>\n",
       "      <th>2</th>\n",
       "      <td>5.155277</td>\n",
       "      <td>136.099311</td>\n",
       "      <td>19.590052</td>\n",
       "      <td>AT113</td>\n",
       "      <td>Südburgenland</td>\n",
       "      <td>96988.0</td>\n",
       "      <td>3.0</td>\n",
       "      <td>AT</td>\n",
       "      <td>SÃ¼dburgenland</td>\n",
       "      <td>0.0</td>\n",
       "      <td>...</td>\n",
       "      <td>3.0</td>\n",
       "      <td>3.0</td>\n",
       "      <td>3.0</td>\n",
       "      <td>3.0</td>\n",
       "      <td>3.0</td>\n",
       "      <td>3.0</td>\n",
       "      <td>3.0</td>\n",
       "      <td>None</td>\n",
       "      <td>None</td>\n",
       "      <td>POLYGON ((4806751.304 2714374.758, 4810965.710...</td>\n",
       "    </tr>\n",
       "  </tbody>\n",
       "</table>\n",
       "<p>3 rows × 46 columns</p>\n",
       "</div>"
      ],
      "text/plain": [
       "   D_first_wa  D_second_w  D_third_wa NUTS_ID         nuts_name  Population  \\\n",
       "0    5.349882   69.548470   24.074470   AT111  Mittelburgenland     37384.0   \n",
       "1    8.121751   51.854258   24.365254   AT112    Nordburgenland    160064.0   \n",
       "2    5.155277  136.099311   19.590052   AT113     Südburgenland     96988.0   \n",
       "\n",
       "   LEVL_CODE CNTR_CODE        NUTS_NAM_1    3  ...   30   31   32   33   34  \\\n",
       "0        3.0        AT  Mittelburgenland  0.0  ...  1.0  1.0  1.0  1.0  1.0   \n",
       "1        3.0        AT    Nordburgenland  0.0  ...  7.0  7.0  7.0  7.0  7.0   \n",
       "2        3.0        AT    SÃ¼dburgenland  0.0  ...  3.0  3.0  3.0  3.0  3.0   \n",
       "\n",
       "    35   36  NAME_LATN   FID  \\\n",
       "0  1.0  1.0       None  None   \n",
       "1  7.0  7.0       None  None   \n",
       "2  3.0  3.0       None  None   \n",
       "\n",
       "                                            geometry  \n",
       "0  POLYGON ((4821838.742 2726166.304, 4809143.714...  \n",
       "1  POLYGON ((4854633.443 2791782.864, 4851092.605...  \n",
       "2  POLYGON ((4806751.304 2714374.758, 4810965.710...  \n",
       "\n",
       "[3 rows x 46 columns]"
      ]
     },
     "execution_count": 3,
     "metadata": {},
     "output_type": "execute_result"
    }
   ],
   "source": [
    "ds = gpd.read_file('Death rates/deahts rates.shp')\n",
    "ds.head(3)"
   ]
  },
  {
   "cell_type": "code",
   "execution_count": 4,
   "id": "81577b90-d3d6-4406-b09c-d9d180a7de29",
   "metadata": {},
   "outputs": [
    {
     "data": {
      "image/png": "[encoded data removed]",
      "text/plain": [
       "<Figure size 432x288 with 1 Axes>"
      ]
     },
     "metadata": {
      "needs_background": "light"
     },
     "output_type": "display_data"
    }
   ],
   "source": [
    "for col in ds.iloc[:,:3]:\n",
    "    ds[col].hist(alpha = .5)"
   ]
  },
  {
   "cell_type": "code",
   "execution_count": 7,
   "id": "0ffe93c5-a158-40ae-8d89-299f33b9c497",
   "metadata": {},
   "outputs": [
    {
     "data": {
      "text/plain": [
       "535.6659752908288"
      ]
     },
     "execution_count": 7,
     "metadata": {},
     "output_type": "execute_result"
    }
   ],
   "source": [
    "ds.iloc[:,:3].max().max()"
   ]
  },
  {
   "cell_type": "code",
   "execution_count": 8,
   "id": "2f1b4418-6a6f-47a5-a9ef-211d1a66f72d",
   "metadata": {},
   "outputs": [
    {
     "data": {
      "text/plain": [
       "<AxesSubplot:>"
      ]
     },
     "execution_count": 8,
     "metadata": {},
     "output_type": "execute_result"
    },
    {
     "data": {
      "image/png": "[encoded data removed]",
      "text/plain": [
       "<Figure size 432x288 with 1 Axes>"
      ]
     },
     "metadata": {
      "needs_background": "light"
     },
     "output_type": "display_data"
    }
   ],
   "source": [
    "ds.iloc[:,0].hist()"
   ]
  },
  {
   "cell_type": "code",
   "execution_count": 9,
   "id": "f2573e5b-3ae4-4431-92cc-0af9d96f9cd6",
   "metadata": {},
   "outputs": [
    {
     "data": {
      "text/plain": [
       "<AxesSubplot:>"
      ]
     },
     "execution_count": 9,
     "metadata": {},
     "output_type": "execute_result"
    },
    {
     "data": {
      "image/png": "[encoded data removed]",
      "text/plain": [
       "<Figure size 432x288 with 1 Axes>"
      ]
     },
     "metadata": {
      "needs_background": "light"
     },
     "output_type": "display_data"
    }
   ],
   "source": [
    "ds.iloc[:,1].hist()"
   ]
  },
  {
   "cell_type": "code",
   "execution_count": 10,
   "id": "2a2ebf57-5677-4709-a2a6-2144b17f4e58",
   "metadata": {},
   "outputs": [
    {
     "data": {
      "text/plain": [
       "<AxesSubplot:>"
      ]
     },
     "execution_count": 10,
     "metadata": {},
     "output_type": "execute_result"
    },
    {
     "data": {
      "image/png": "[encoded data removed]",
      "text/plain": [
       "<Figure size 432x288 with 1 Axes>"
      ]
     },
     "metadata": {
      "needs_background": "light"
     },
     "output_type": "display_data"
    }
   ],
   "source": [
    "ds.iloc[:,2].hist()"
   ]
  }
 ],
 "metadata": {
  "kernelspec": {
   "display_name": "Python 3 (ipykernel)",
   "language": "python",
   "name": "python3"
  },
  "language_info": {
   "codemirror_mode": {
    "name": "ipython",
    "version": 3
   },
   "file_extension": ".py",
   "mimetype": "text/x-python",
   "name": "python",
   "nbconvert_exporter": "python",
   "pygments_lexer": "ipython3",
   "version": "3.9.12"
  }
 },
 "nbformat": 4,
 "nbformat_minor": 5
}
