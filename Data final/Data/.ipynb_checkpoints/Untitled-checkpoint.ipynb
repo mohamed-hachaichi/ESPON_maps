{
 "cells": [
  {
   "cell_type": "code",
   "execution_count": 1,
   "id": "26413267",
   "metadata": {},
   "outputs": [],
   "source": [
    "import geopandas as gpd "
   ]
  },
  {
   "cell_type": "code",
   "execution_count": 3,
   "id": "8173897b",
   "metadata": {},
   "outputs": [
    {
     "data": {
      "text/html": [
       "<div>\n",
       "<style scoped>\n",
       "    .dataframe tbody tr th:only-of-type {\n",
       "        vertical-align: middle;\n",
       "    }\n",
       "\n",
       "    .dataframe tbody tr th {\n",
       "        vertical-align: top;\n",
       "    }\n",
       "\n",
       "    .dataframe thead th {\n",
       "        text-align: right;\n",
       "    }\n",
       "</style>\n",
       "<table border=\"1\" class=\"dataframe\">\n",
       "  <thead>\n",
       "    <tr style=\"text-align: right;\">\n",
       "      <th></th>\n",
       "      <th>2020-01-26</th>\n",
       "      <th>2020-02-02</th>\n",
       "      <th>2020-02-09</th>\n",
       "      <th>2020-02-16</th>\n",
       "      <th>2020-02-23</th>\n",
       "      <th>2020-03-01</th>\n",
       "      <th>2020-03-08</th>\n",
       "      <th>2020-03-15</th>\n",
       "      <th>2020-03-22</th>\n",
       "      <th>2020-03-29</th>\n",
       "      <th>...</th>\n",
       "      <th>2021-11-28</th>\n",
       "      <th>2021-12-05</th>\n",
       "      <th>2021-12-12</th>\n",
       "      <th>2021-12-19</th>\n",
       "      <th>2021-12-26</th>\n",
       "      <th>2022-01-02</th>\n",
       "      <th>2022-01-09</th>\n",
       "      <th>NUTS_ID</th>\n",
       "      <th>LEVL_CODE</th>\n",
       "      <th>geometry</th>\n",
       "    </tr>\n",
       "  </thead>\n",
       "  <tbody>\n",
       "    <tr>\n",
       "      <th>0</th>\n",
       "      <td>0.0</td>\n",
       "      <td>0.0</td>\n",
       "      <td>0.0</td>\n",
       "      <td>0.0</td>\n",
       "      <td>0.0</td>\n",
       "      <td>0.0</td>\n",
       "      <td>0.0</td>\n",
       "      <td>0.0</td>\n",
       "      <td>2.674941</td>\n",
       "      <td>0.00000</td>\n",
       "      <td>...</td>\n",
       "      <td>0.00000</td>\n",
       "      <td>0.0</td>\n",
       "      <td>0.0</td>\n",
       "      <td>0.0</td>\n",
       "      <td>0.0</td>\n",
       "      <td>0.0</td>\n",
       "      <td>0.0</td>\n",
       "      <td>AT111</td>\n",
       "      <td>3.0</td>\n",
       "      <td>POLYGON ((4821838.742 2726166.304, 4809143.714...</td>\n",
       "    </tr>\n",
       "    <tr>\n",
       "      <th>1</th>\n",
       "      <td>0.0</td>\n",
       "      <td>0.0</td>\n",
       "      <td>0.0</td>\n",
       "      <td>0.0</td>\n",
       "      <td>0.0</td>\n",
       "      <td>0.0</td>\n",
       "      <td>0.0</td>\n",
       "      <td>0.0</td>\n",
       "      <td>2.674941</td>\n",
       "      <td>0.00000</td>\n",
       "      <td>...</td>\n",
       "      <td>0.00000</td>\n",
       "      <td>0.0</td>\n",
       "      <td>0.0</td>\n",
       "      <td>0.0</td>\n",
       "      <td>0.0</td>\n",
       "      <td>0.0</td>\n",
       "      <td>0.0</td>\n",
       "      <td>AT111</td>\n",
       "      <td>3.0</td>\n",
       "      <td>POLYGON ((4821838.742 2726166.304, 4809143.714...</td>\n",
       "    </tr>\n",
       "    <tr>\n",
       "      <th>2</th>\n",
       "      <td>0.0</td>\n",
       "      <td>0.0</td>\n",
       "      <td>0.0</td>\n",
       "      <td>0.0</td>\n",
       "      <td>0.0</td>\n",
       "      <td>0.0</td>\n",
       "      <td>0.0</td>\n",
       "      <td>0.0</td>\n",
       "      <td>0.000000</td>\n",
       "      <td>0.62475</td>\n",
       "      <td>...</td>\n",
       "      <td>1.87425</td>\n",
       "      <td>0.0</td>\n",
       "      <td>0.0</td>\n",
       "      <td>0.0</td>\n",
       "      <td>0.0</td>\n",
       "      <td>0.0</td>\n",
       "      <td>0.0</td>\n",
       "      <td>AT112</td>\n",
       "      <td>3.0</td>\n",
       "      <td>POLYGON ((4854633.443 2791782.864, 4851092.605...</td>\n",
       "    </tr>\n",
       "  </tbody>\n",
       "</table>\n",
       "<p>3 rows × 106 columns</p>\n",
       "</div>"
      ],
      "text/plain": [
       "   2020-01-26  2020-02-02  2020-02-09  2020-02-16  2020-02-23  2020-03-01  \\\n",
       "0         0.0         0.0         0.0         0.0         0.0         0.0   \n",
       "1         0.0         0.0         0.0         0.0         0.0         0.0   \n",
       "2         0.0         0.0         0.0         0.0         0.0         0.0   \n",
       "\n",
       "   2020-03-08  2020-03-15  2020-03-22  2020-03-29  ...  2021-11-28  \\\n",
       "0         0.0         0.0    2.674941     0.00000  ...     0.00000   \n",
       "1         0.0         0.0    2.674941     0.00000  ...     0.00000   \n",
       "2         0.0         0.0    0.000000     0.62475  ...     1.87425   \n",
       "\n",
       "   2021-12-05  2021-12-12  2021-12-19  2021-12-26  2022-01-02  2022-01-09  \\\n",
       "0         0.0         0.0         0.0         0.0         0.0         0.0   \n",
       "1         0.0         0.0         0.0         0.0         0.0         0.0   \n",
       "2         0.0         0.0         0.0         0.0         0.0         0.0   \n",
       "\n",
       "   NUTS_ID  LEVL_CODE                                           geometry  \n",
       "0    AT111        3.0  POLYGON ((4821838.742 2726166.304, 4809143.714...  \n",
       "1    AT111        3.0  POLYGON ((4821838.742 2726166.304, 4809143.714...  \n",
       "2    AT112        3.0  POLYGON ((4854633.443 2791782.864, 4851092.605...  \n",
       "\n",
       "[3 rows x 106 columns]"
      ]
     },
     "execution_count": 3,
     "metadata": {},
     "output_type": "execute_result"
    }
   ],
   "source": [
    "one = gpd.read_file('Deaths_density.shap/Deaths_density.shp')\n",
    "one.head(3)"
   ]
  },
  {
   "cell_type": "code",
   "execution_count": 4,
   "id": "d8f9dcb4",
   "metadata": {},
   "outputs": [
    {
     "data": {
      "image/png": "[encoded data removed]",
      "text/plain": [
       "<Figure size 432x288 with 1 Axes>"
      ]
     },
     "metadata": {
      "needs_background": "light"
     },
     "output_type": "display_data"
    }
   ],
   "source": [
    "for col in one.iloc[:, :-3]:\n",
    "    one[col].hist()"
   ]
  },
  {
   "cell_type": "code",
   "execution_count": 9,
   "id": "a85126c5",
   "metadata": {},
   "outputs": [
    {
     "data": {
      "text/plain": [
       "4656.498015873016"
      ]
     },
     "execution_count": 9,
     "metadata": {},
     "output_type": "execute_result"
    }
   ],
   "source": [
    "one.max(numeric_only = True).max()"
   ]
  },
  {
   "cell_type": "code",
   "execution_count": 16,
   "id": "29b4263a",
   "metadata": {},
   "outputs": [
    {
     "data": {
      "text/plain": [
       "<AxesSubplot:>"
      ]
     },
     "execution_count": 16,
     "metadata": {},
     "output_type": "execute_result"
    },
    {
     "data": {
      "image/png": "[encoded data removed]",
      "text/plain": [
       "<Figure size 432x288 with 1 Axes>"
      ]
     },
     "metadata": {
      "needs_background": "light"
     },
     "output_type": "display_data"
    }
   ],
   "source": [
    "one.iloc[:,6].hist()"
   ]
  }
 ],
 "metadata": {
  "kernelspec": {
   "display_name": "Python 3 (ipykernel)",
   "language": "python",
   "name": "python3"
  },
  "language_info": {
   "codemirror_mode": {
    "name": "ipython",
    "version": 3
   },
   "file_extension": ".py",
   "mimetype": "text/x-python",
   "name": "python",
   "nbconvert_exporter": "python",
   "pygments_lexer": "ipython3",
   "version": "3.9.7"
  }
 },
 "nbformat": 4,
 "nbformat_minor": 5
}
