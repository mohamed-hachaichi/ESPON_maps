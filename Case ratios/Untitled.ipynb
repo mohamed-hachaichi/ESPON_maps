{
 "cells": [
  {
   "cell_type": "code",
   "execution_count": 2,
   "id": "524aadaf-eada-48e6-92c4-088cc7708388",
   "metadata": {},
   "outputs": [],
   "source": [
    "import geopandas as gpd"
   ]
  },
  {
   "cell_type": "code",
   "execution_count": 4,
   "id": "5efbb16d-016f-4efb-8521-b5e53edebe75",
   "metadata": {},
   "outputs": [
    {
     "data": {
      "text/html": [
       "<div>\n",
       "<style scoped>\n",
       "    .dataframe tbody tr th:only-of-type {\n",
       "        vertical-align: middle;\n",
       "    }\n",
       "\n",
       "    .dataframe tbody tr th {\n",
       "        vertical-align: top;\n",
       "    }\n",
       "\n",
       "    .dataframe thead th {\n",
       "        text-align: right;\n",
       "    }\n",
       "</style>\n",
       "<table border=\"1\" class=\"dataframe\">\n",
       "  <thead>\n",
       "    <tr style=\"text-align: right;\">\n",
       "      <th></th>\n",
       "      <th>key_0</th>\n",
       "      <th>D_first_wa</th>\n",
       "      <th>D_second_w</th>\n",
       "      <th>D_third_wa</th>\n",
       "      <th>C_first_wa</th>\n",
       "      <th>C_second_w</th>\n",
       "      <th>C_third_wa</th>\n",
       "      <th>First_rate</th>\n",
       "      <th>Second_rat</th>\n",
       "      <th>Third_rate</th>\n",
       "      <th>...</th>\n",
       "      <th>30</th>\n",
       "      <th>31</th>\n",
       "      <th>32</th>\n",
       "      <th>33</th>\n",
       "      <th>34</th>\n",
       "      <th>35</th>\n",
       "      <th>36</th>\n",
       "      <th>NAME_LATN</th>\n",
       "      <th>FID</th>\n",
       "      <th>geometry</th>\n",
       "    </tr>\n",
       "  </thead>\n",
       "  <tbody>\n",
       "    <tr>\n",
       "      <th>0</th>\n",
       "      <td>AT111</td>\n",
       "      <td>2.0</td>\n",
       "      <td>26.0</td>\n",
       "      <td>9.0</td>\n",
       "      <td>1087.761712</td>\n",
       "      <td>2176.0</td>\n",
       "      <td>1585.0</td>\n",
       "      <td>0.183864</td>\n",
       "      <td>1.194853</td>\n",
       "      <td>0.567823</td>\n",
       "      <td>...</td>\n",
       "      <td>1.0</td>\n",
       "      <td>1.0</td>\n",
       "      <td>1.0</td>\n",
       "      <td>1.0</td>\n",
       "      <td>1.0</td>\n",
       "      <td>1.0</td>\n",
       "      <td>1.0</td>\n",
       "      <td>None</td>\n",
       "      <td>None</td>\n",
       "      <td>POLYGON ((4821838.742 2726166.304, 4809143.714...</td>\n",
       "    </tr>\n",
       "    <tr>\n",
       "      <th>1</th>\n",
       "      <td>AT112</td>\n",
       "      <td>13.0</td>\n",
       "      <td>83.0</td>\n",
       "      <td>39.0</td>\n",
       "      <td>1209.761712</td>\n",
       "      <td>8467.0</td>\n",
       "      <td>6452.0</td>\n",
       "      <td>1.074592</td>\n",
       "      <td>0.980276</td>\n",
       "      <td>0.604464</td>\n",
       "      <td>...</td>\n",
       "      <td>7.0</td>\n",
       "      <td>7.0</td>\n",
       "      <td>7.0</td>\n",
       "      <td>7.0</td>\n",
       "      <td>7.0</td>\n",
       "      <td>7.0</td>\n",
       "      <td>7.0</td>\n",
       "      <td>None</td>\n",
       "      <td>None</td>\n",
       "      <td>POLYGON ((4854633.443 2791782.864, 4851092.605...</td>\n",
       "    </tr>\n",
       "    <tr>\n",
       "      <th>2</th>\n",
       "      <td>AT113</td>\n",
       "      <td>5.0</td>\n",
       "      <td>132.0</td>\n",
       "      <td>19.0</td>\n",
       "      <td>1227.761712</td>\n",
       "      <td>6423.0</td>\n",
       "      <td>3677.0</td>\n",
       "      <td>0.407245</td>\n",
       "      <td>2.055114</td>\n",
       "      <td>0.516726</td>\n",
       "      <td>...</td>\n",
       "      <td>3.0</td>\n",
       "      <td>3.0</td>\n",
       "      <td>3.0</td>\n",
       "      <td>3.0</td>\n",
       "      <td>3.0</td>\n",
       "      <td>3.0</td>\n",
       "      <td>3.0</td>\n",
       "      <td>None</td>\n",
       "      <td>None</td>\n",
       "      <td>POLYGON ((4806751.304 2714374.758, 4810965.710...</td>\n",
       "    </tr>\n",
       "  </tbody>\n",
       "</table>\n",
       "<p>3 rows × 51 columns</p>\n",
       "</div>"
      ],
      "text/plain": [
       "   key_0  D_first_wa  D_second_w  D_third_wa   C_first_wa  C_second_w  \\\n",
       "0  AT111         2.0        26.0         9.0  1087.761712      2176.0   \n",
       "1  AT112        13.0        83.0        39.0  1209.761712      8467.0   \n",
       "2  AT113         5.0       132.0        19.0  1227.761712      6423.0   \n",
       "\n",
       "   C_third_wa  First_rate  Second_rat  Third_rate  ...   30   31   32   33  \\\n",
       "0      1585.0    0.183864    1.194853    0.567823  ...  1.0  1.0  1.0  1.0   \n",
       "1      6452.0    1.074592    0.980276    0.604464  ...  7.0  7.0  7.0  7.0   \n",
       "2      3677.0    0.407245    2.055114    0.516726  ...  3.0  3.0  3.0  3.0   \n",
       "\n",
       "    34   35   36  NAME_LATN   FID  \\\n",
       "0  1.0  1.0  1.0       None  None   \n",
       "1  7.0  7.0  7.0       None  None   \n",
       "2  3.0  3.0  3.0       None  None   \n",
       "\n",
       "                                            geometry  \n",
       "0  POLYGON ((4821838.742 2726166.304, 4809143.714...  \n",
       "1  POLYGON ((4854633.443 2791782.864, 4851092.605...  \n",
       "2  POLYGON ((4806751.304 2714374.758, 4810965.710...  \n",
       "\n",
       "[3 rows x 51 columns]"
      ]
     },
     "execution_count": 4,
     "metadata": {},
     "output_type": "execute_result"
    }
   ],
   "source": [
    "ds = gpd.read_file('Case ratios/case ratios.shap/case ratios.shp')\n",
    "ds.head(3)"
   ]
  },
  {
   "cell_type": "code",
   "execution_count": 10,
   "id": "1f3a1cba-7dbe-41d0-82de-d21ca08a09a9",
   "metadata": {},
   "outputs": [
    {
     "data": {
      "text/plain": [
       "Index(['key_0', 'D_first_wa', 'D_second_w', 'D_third_wa', 'C_first_wa',\n",
       "       'C_second_w', 'C_third_wa', 'First_rate', 'Second_rat', 'Third_rate',\n",
       "       'NUTS_ID', 'LEVL_CODE', 'CNTR_CODE', 'NUTS_NAME', '3', '4', '5', '6',\n",
       "       '7', '8', '9', '10', '11', '12', '13', '14', '15', '16', '17', '18',\n",
       "       '19', '20', '21', '22', '23', '24', '25', '26', '27', '28', '29', '30',\n",
       "       '31', '32', '33', '34', '35', '36', 'NAME_LATN', 'FID', 'geometry'],\n",
       "      dtype='object')"
      ]
     },
     "execution_count": 10,
     "metadata": {},
     "output_type": "execute_result"
    }
   ],
   "source": [
    "ds.columns"
   ]
  },
  {
   "cell_type": "code",
   "execution_count": 11,
   "id": "e0ee9d34-0a36-492f-929d-63ff45200bbd",
   "metadata": {},
   "outputs": [
    {
     "data": {
      "image/png": "[encoded data removed]",
      "text/plain": [
       "<Figure size 432x288 with 1 Axes>"
      ]
     },
     "metadata": {
      "needs_background": "light"
     },
     "output_type": "display_data"
    }
   ],
   "source": [
    "for col in ['First_rate', 'Second_rat','Third_rate']:\n",
    "    ds[col].hist(alpha = .5)"
   ]
  },
  {
   "cell_type": "code",
   "execution_count": 20,
   "id": "d627b106-ea69-4210-9bd0-64b33c7f9e94",
   "metadata": {},
   "outputs": [
    {
     "data": {
      "text/html": [
       "<div>\n",
       "<style scoped>\n",
       "    .dataframe tbody tr th:only-of-type {\n",
       "        vertical-align: middle;\n",
       "    }\n",
       "\n",
       "    .dataframe tbody tr th {\n",
       "        vertical-align: top;\n",
       "    }\n",
       "\n",
       "    .dataframe thead th {\n",
       "        text-align: right;\n",
       "    }\n",
       "</style>\n",
       "<table border=\"1\" class=\"dataframe\">\n",
       "  <thead>\n",
       "    <tr style=\"text-align: right;\">\n",
       "      <th></th>\n",
       "      <th>First_rate</th>\n",
       "      <th>Second_rat</th>\n",
       "      <th>Third_rate</th>\n",
       "    </tr>\n",
       "  </thead>\n",
       "  <tbody>\n",
       "    <tr>\n",
       "      <th>0</th>\n",
       "      <td>0.183864</td>\n",
       "      <td>1.194853</td>\n",
       "      <td>0.567823</td>\n",
       "    </tr>\n",
       "    <tr>\n",
       "      <th>1</th>\n",
       "      <td>1.074592</td>\n",
       "      <td>0.980276</td>\n",
       "      <td>0.604464</td>\n",
       "    </tr>\n",
       "    <tr>\n",
       "      <th>2</th>\n",
       "      <td>0.407245</td>\n",
       "      <td>2.055114</td>\n",
       "      <td>0.516726</td>\n",
       "    </tr>\n",
       "    <tr>\n",
       "      <th>3</th>\n",
       "      <td>1.626740</td>\n",
       "      <td>1.023873</td>\n",
       "      <td>0.199140</td>\n",
       "    </tr>\n",
       "    <tr>\n",
       "      <th>4</th>\n",
       "      <td>1.033940</td>\n",
       "      <td>1.444204</td>\n",
       "      <td>0.572219</td>\n",
       "    </tr>\n",
       "    <tr>\n",
       "      <th>...</th>\n",
       "      <td>...</td>\n",
       "      <td>...</td>\n",
       "      <td>...</td>\n",
       "    </tr>\n",
       "    <tr>\n",
       "      <th>448</th>\n",
       "      <td>5.264176</td>\n",
       "      <td>1.228673</td>\n",
       "      <td>0.419691</td>\n",
       "    </tr>\n",
       "    <tr>\n",
       "      <th>449</th>\n",
       "      <td>5.576883</td>\n",
       "      <td>1.531771</td>\n",
       "      <td>0.800806</td>\n",
       "    </tr>\n",
       "    <tr>\n",
       "      <th>450</th>\n",
       "      <td>5.576883</td>\n",
       "      <td>1.531771</td>\n",
       "      <td>0.800806</td>\n",
       "    </tr>\n",
       "    <tr>\n",
       "      <th>451</th>\n",
       "      <td>5.576883</td>\n",
       "      <td>1.531771</td>\n",
       "      <td>0.800806</td>\n",
       "    </tr>\n",
       "    <tr>\n",
       "      <th>452</th>\n",
       "      <td>5.576883</td>\n",
       "      <td>1.531771</td>\n",
       "      <td>0.800806</td>\n",
       "    </tr>\n",
       "  </tbody>\n",
       "</table>\n",
       "<p>453 rows × 3 columns</p>\n",
       "</div>"
      ],
      "text/plain": [
       "     First_rate  Second_rat  Third_rate\n",
       "0      0.183864    1.194853    0.567823\n",
       "1      1.074592    0.980276    0.604464\n",
       "2      0.407245    2.055114    0.516726\n",
       "3      1.626740    1.023873    0.199140\n",
       "4      1.033940    1.444204    0.572219\n",
       "..          ...         ...         ...\n",
       "448    5.264176    1.228673    0.419691\n",
       "449    5.576883    1.531771    0.800806\n",
       "450    5.576883    1.531771    0.800806\n",
       "451    5.576883    1.531771    0.800806\n",
       "452    5.576883    1.531771    0.800806\n",
       "\n",
       "[453 rows x 3 columns]"
      ]
     },
     "execution_count": 20,
     "metadata": {},
     "output_type": "execute_result"
    }
   ],
   "source": [
    "ds.loc[:,['First_rate', 'Second_rat','Third_rate']]"
   ]
  },
  {
   "cell_type": "code",
   "execution_count": 16,
   "id": "b6891abe-fa62-4f5a-a378-de16269c49e5",
   "metadata": {},
   "outputs": [
    {
     "data": {
      "text/plain": [
       "25.852711790228504"
      ]
     },
     "execution_count": 16,
     "metadata": {},
     "output_type": "execute_result"
    }
   ],
   "source": [
    "ds.loc[:,['First_rate', 'Second_rat','Third_rate']].max().max()"
   ]
  },
  {
   "cell_type": "code",
   "execution_count": 17,
   "id": "02a9bd8e-38a2-44e4-bc5f-66294c13da8c",
   "metadata": {},
   "outputs": [
    {
     "data": {
      "text/plain": [
       "<AxesSubplot:>"
      ]
     },
     "execution_count": 17,
     "metadata": {},
     "output_type": "execute_result"
    },
    {
     "data": {
      "image/png": "[encoded data removed]",
      "text/plain": [
       "<Figure size 432x288 with 1 Axes>"
      ]
     },
     "metadata": {
      "needs_background": "light"
     },
     "output_type": "display_data"
    }
   ],
   "source": [
    "ds['First_rate'].hist()"
   ]
  },
  {
   "cell_type": "code",
   "execution_count": 18,
   "id": "b9ab06cf-a6ef-46ca-87bf-da8861bc0ab2",
   "metadata": {},
   "outputs": [
    {
     "data": {
      "text/plain": [
       "<AxesSubplot:>"
      ]
     },
     "execution_count": 18,
     "metadata": {},
     "output_type": "execute_result"
    },
    {
     "data": {
      "image/png": "[encoded data removed]",
      "text/plain": [
       "<Figure size 432x288 with 1 Axes>"
      ]
     },
     "metadata": {
      "needs_background": "light"
     },
     "output_type": "display_data"
    }
   ],
   "source": [
    "ds['Second_rat'].hist()"
   ]
  },
  {
   "cell_type": "code",
   "execution_count": 19,
   "id": "098141e2-cc33-496e-b955-939302efc7ab",
   "metadata": {},
   "outputs": [
    {
     "data": {
      "text/plain": [
       "<AxesSubplot:>"
      ]
     },
     "execution_count": 19,
     "metadata": {},
     "output_type": "execute_result"
    },
    {
     "data": {
      "image/png": "[encoded data removed]",
      "text/plain": [
       "<Figure size 432x288 with 1 Axes>"
      ]
     },
     "metadata": {
      "needs_background": "light"
     },
     "output_type": "display_data"
    }
   ],
   "source": [
    "ds['Third_rate'].hist()"
   ]
  }
 ],
 "metadata": {
  "kernelspec": {
   "display_name": "Python 3 (ipykernel)",
   "language": "python",
   "name": "python3"
  },
  "language_info": {
   "codemirror_mode": {
    "name": "ipython",
    "version": 3
   },
   "file_extension": ".py",
   "mimetype": "text/x-python",
   "name": "python",
   "nbconvert_exporter": "python",
   "pygments_lexer": "ipython3",
   "version": "3.9.12"
  }
 },
 "nbformat": 4,
 "nbformat_minor": 5
}
